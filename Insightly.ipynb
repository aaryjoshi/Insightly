{
 "cells": [
  {
   "cell_type": "code",
   "execution_count": null,
   "metadata": {
    "colab": {
     "base_uri": "https://localhost:8080/"
    },
    "collapsed": true,
    "id": "7-BQZf7TgDh_",
    "outputId": "0f9d2f2f-0906-4aad-9d65-e3ad42856bf5"
   },
   "outputs": [],
   "source": [
    "#installations\n",
    "%pip install streamlit\n",
    "%pip install langchain faiss-cpu sentence-transformers\n",
    "%pip install unstructured\n",
    "%pip install langchain-community\n",
    "%pip install -U langchain-google-genai\n",
    "%pip install python-dotenv"
   ]
  },
  {
   "cell_type": "code",
   "execution_count": null,
   "metadata": {
    "colab": {
     "base_uri": "https://localhost:8080/"
    },
    "id": "zdvIBY86GrWK",
    "outputId": "d677979d-002e-492f-88e1-56dbbd86d581"
   },
   "outputs": [],
   "source": [
    "#dependencies\n",
    "import os\n",
    "import langchain\n",
    "from dotenv import load_dotenv\n",
    "import google.generativeai as genai\n",
    "from langchain_google_genai import ChatGoogleGenerativeAI\n",
    "from google.colab import userdata\n",
    "from langchain.text_splitter import RecursiveCharacterTextSplitter\n",
    "from langchain.document_loaders import UnstructuredURLLoader\n",
    "from langchain import OpenAI\n",
    "from langchain.embeddings import HuggingFaceEmbeddings\n",
    "from langchain.vectorstores import FAISS\n",
    "import pickle\n",
    "from langchain.chains import RetrievalQAWithSourcesChain\n",
    "\n",
    "\n",
    "#integrate api's\n",
    "load_dotenv()\n",
    "# Access the API key from environment variables\n",
    "gemini_api_key = os.getenv(\"GEMINI_API_KEYS\")\n",
    "# Use it in your application\n",
    "os.environ['GOOGLE_API_KEY'] = gemini_api_key\n",
    "\n",
    "\n",
    "# Initialize the Gemini LLM\n",
    "llm = ChatGoogleGenerativeAI(\n",
    "    model=\"models/gemini-2.0-flash\",\n",
    "    temperature=0.9,\n",
    "    max_tokens=100,\n",
    "    google_api_key=os.environ[\"GOOGLE_API_KEY\"]\n",
    ")\n",
    "\n",
    "#input on urls and make a data of it\n",
    "urls=[\n",
    "    \"https://www.moneycontrol.com/news/business/markets/wall-street-rises-as-tesla-soars-on-ai-optimism-11351111.html\",\n",
    "    \"https://www.moneycontrol.com/news/business/tata-motors-launches-punch-icng-price-starts-at-rs-7-1-lakh-11098751.html\",\n",
    "    \"https://www.thehindu.com/news/national/india-bans-direct-indirect-imports-from-pakistan/article69533634.ece\"\n",
    "\n",
    "]\n",
    "\n",
    "num_urls = int(input(\"How many URLs would you like to input? \"))\n",
    "\n",
    "for i in range(num_urls):\n",
    "    url = input(f\"Enter URL {i + 1}: \")\n",
    "    urls.append(url)\n",
    "\n",
    "\n",
    "loaders = UnstructuredURLLoader(urls=urls)\n",
    "data = loaders.load()\n",
    "\n",
    "\n",
    "#split the data\n",
    "text_splitter = RecursiveCharacterTextSplitter(\n",
    "    chunk_size=1000,\n",
    "    chunk_overlap=200\n",
    ")\n",
    "\n",
    "# As data is of type documents we can directly use split_documents over split_text in order to get the chunks.\n",
    "docs = text_splitter.split_documents(data)\n",
    "\n",
    "# Create the embeddings of the chunks using HuggingFaceEmbeddings\n",
    "embedding_model = HuggingFaceEmbeddings(model_name=\"sentence-transformers/all-MiniLM-L6-v2\")\n",
    "\n",
    "# Pass the documents and embeddings inorder to create FAISS vector index\n",
    "vectorindex_hf = FAISS.from_documents(docs, embedding_model)\n",
    "\n",
    "# Storing vector index created in local\n",
    "file_path=\"vector_index.pkl\"\n",
    "with open(file_path, \"wb\") as f:\n",
    "    pickle.dump(vectorindex_hf, f)\n",
    "\n",
    "#retriving the stored vector\n",
    "if os.path.exists(file_path):\n",
    "    with open(file_path, \"rb\") as f:\n",
    "        vectorIndex = pickle.load(f)\n",
    "\n",
    "#set up a Retrieval-Augmented Generation (RAG) chain using LangChain.\n",
    "chain = RetrievalQAWithSourcesChain.from_llm(llm=llm, retriever=vectorIndex.as_retriever())"
   ]
  },
  {
   "cell_type": "code",
   "execution_count": null,
   "metadata": {
    "colab": {
     "base_uri": "https://localhost:8080/"
    },
    "collapsed": true,
    "id": "bhZ6dgkQvJWb",
    "outputId": "b6399e3e-5f30-4497-e1ce-e2352f1ebfe8"
   },
   "outputs": [],
   "source": [
    "#query your question\n",
    "query = \"What did India ban?.Explain the situation in breif\"\n",
    "langchain.debug = False\n",
    "chain({\"question\": query}, return_only_outputs=True)"
   ]
  }
 ],
 "metadata": {
  "colab": {
   "provenance": []
  },
  "kernelspec": {
   "display_name": "Python 3",
   "name": "python3"
  },
  "language_info": {
   "name": "python"
  }
 },
 "nbformat": 4,
 "nbformat_minor": 0
}
